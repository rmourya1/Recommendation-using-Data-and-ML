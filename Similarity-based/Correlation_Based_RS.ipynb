{
  "nbformat": 4,
  "nbformat_minor": 0,
  "metadata": {
    "kernelspec": {
      "display_name": "Python 2",
      "language": "python",
      "name": "python2"
    },
    "language_info": {
      "codemirror_mode": {
        "name": "ipython",
        "version": 3
      },
      "file_extension": ".py",
      "mimetype": "text/x-python",
      "name": "python",
      "nbconvert_exporter": "python",
      "pygments_lexer": "ipython3",
      "version": "3.6.1"
    },
    "colab": {
      "name": "Correlation_Based_RS.ipynb",
      "provenance": [],
      "collapsed_sections": [],
      "toc_visible": true
    }
  },
  "cells": [
    {
      "cell_type": "markdown",
      "metadata": {
        "id": "PXB90Q85ZC7D"
      },
      "source": [
        "# Making Recommendations Based on Correlation"
      ]
    },
    {
      "cell_type": "code",
      "metadata": {
        "id": "v07DzDFgZC7D"
      },
      "source": [
        "import numpy as np\n",
        "import pandas as pd"
      ],
      "execution_count": 1,
      "outputs": []
    },
    {
      "cell_type": "markdown",
      "metadata": {
        "id": "VZ13NfEeZC7D"
      },
      "source": [
        "These datasets are hosted on: https://archive.ics.uci.edu/ml/datasets/Restaurant+%26+consumer+data\n",
        "\n",
        "They were originally published by: Blanca Vargas-Govea, Juan Gabriel GonzÃ¡lez-Serna, Rafael Ponce-MedellÃ­n. Effects of relevant contextual features in the performance of a restaurant recommender system. In RecSysâ€™11: Workshop on Context Aware Recommender Systems (CARS-2011), Chicago, IL, USA, October 23, 2011."
      ]
    },
    {
      "cell_type": "code",
      "metadata": {
        "id": "2Vi144UUZC7D"
      },
      "source": [
        "frame =  pd.read_csv('rating_final.csv')\n",
        "cuisine = pd.read_csv('chefmozcuisine.csv')\n",
        "geodata = pd.read_csv('geoplaces2.csv')"
      ],
      "execution_count": 23,
      "outputs": []
    },
    {
      "cell_type": "code",
      "metadata": {
        "colab": {
          "base_uri": "https://localhost:8080/",
          "height": 204
        },
        "id": "MnwYdhL3ZC7D",
        "outputId": "a604da0c-b216-4d3e-f093-60f02997f85b"
      },
      "source": [
        "frame.head()\n",
        "\n",
        "# Rating 0 (worst), 1 and 2 (best)"
      ],
      "execution_count": 4,
      "outputs": [
        {
          "output_type": "execute_result",
          "data": {
            "text/plain": [
              "  userID  placeID  rating  food_rating  service_rating\n",
              "0  U1077   135085       2            2               2\n",
              "1  U1077   135038       2            2               1\n",
              "2  U1077   132825       2            2               2\n",
              "3  U1077   135060       1            2               2\n",
              "4  U1068   135104       1            1               2"
            ],
            "text/html": [
              "<div>\n",
              "<style scoped>\n",
              "    .dataframe tbody tr th:only-of-type {\n",
              "        vertical-align: middle;\n",
              "    }\n",
              "\n",
              "    .dataframe tbody tr th {\n",
              "        vertical-align: top;\n",
              "    }\n",
              "\n",
              "    .dataframe thead th {\n",
              "        text-align: right;\n",
              "    }\n",
              "</style>\n",
              "<table border=\"1\" class=\"dataframe\">\n",
              "  <thead>\n",
              "    <tr style=\"text-align: right;\">\n",
              "      <th></th>\n",
              "      <th>userID</th>\n",
              "      <th>placeID</th>\n",
              "      <th>rating</th>\n",
              "      <th>food_rating</th>\n",
              "      <th>service_rating</th>\n",
              "    </tr>\n",
              "  </thead>\n",
              "  <tbody>\n",
              "    <tr>\n",
              "      <th>0</th>\n",
              "      <td>U1077</td>\n",
              "      <td>135085</td>\n",
              "      <td>2</td>\n",
              "      <td>2</td>\n",
              "      <td>2</td>\n",
              "    </tr>\n",
              "    <tr>\n",
              "      <th>1</th>\n",
              "      <td>U1077</td>\n",
              "      <td>135038</td>\n",
              "      <td>2</td>\n",
              "      <td>2</td>\n",
              "      <td>1</td>\n",
              "    </tr>\n",
              "    <tr>\n",
              "      <th>2</th>\n",
              "      <td>U1077</td>\n",
              "      <td>132825</td>\n",
              "      <td>2</td>\n",
              "      <td>2</td>\n",
              "      <td>2</td>\n",
              "    </tr>\n",
              "    <tr>\n",
              "      <th>3</th>\n",
              "      <td>U1077</td>\n",
              "      <td>135060</td>\n",
              "      <td>1</td>\n",
              "      <td>2</td>\n",
              "      <td>2</td>\n",
              "    </tr>\n",
              "    <tr>\n",
              "      <th>4</th>\n",
              "      <td>U1068</td>\n",
              "      <td>135104</td>\n",
              "      <td>1</td>\n",
              "      <td>1</td>\n",
              "      <td>2</td>\n",
              "    </tr>\n",
              "  </tbody>\n",
              "</table>\n",
              "</div>"
            ]
          },
          "metadata": {
            "tags": []
          },
          "execution_count": 4
        }
      ]
    },
    {
      "cell_type": "code",
      "metadata": {
        "colab": {
          "base_uri": "https://localhost:8080/",
          "height": 423
        },
        "id": "yprA4g5gZC7F",
        "outputId": "9672e38a-2690-4f5e-82db-08e1592552dd"
      },
      "source": [
        "geodata.head() # names of places and place id"
      ],
      "execution_count": 5,
      "outputs": [
        {
          "output_type": "execute_result",
          "data": {
            "text/plain": [
              "   placeID   latitude   longitude  \\\n",
              "0   134999  18.915421  -99.184871   \n",
              "1   132825  22.147392 -100.983092   \n",
              "2   135106  22.149709 -100.976093   \n",
              "3   132667  23.752697  -99.163359   \n",
              "4   132613  23.752903  -99.165076   \n",
              "\n",
              "                                      the_geom_meter  \\\n",
              "0  0101000020957F000088568DE356715AC138C0A525FC46...   \n",
              "1  0101000020957F00001AD016568C4858C1243261274BA5...   \n",
              "2  0101000020957F0000649D6F21634858C119AE9BF528A3...   \n",
              "3  0101000020957F00005D67BCDDED8157C1222A2DC8D84D...   \n",
              "4  0101000020957F00008EBA2D06DC8157C194E03B7B504E...   \n",
              "\n",
              "                             name                                 address  \\\n",
              "0                 Kiku Cuernavaca                              Revolucion   \n",
              "1                 puesto de tacos  esquina santos degollado y leon guzman   \n",
              "2      El Rinc�n de San Francisco                         Universidad 169   \n",
              "3  little pizza Emilio Portes Gil                 calle emilio portes gil   \n",
              "4                   carnitas_mata                  lic. Emilio portes gil   \n",
              "\n",
              "              city            state country fax  ...            alcohol  \\\n",
              "0       Cuernavaca          Morelos  Mexico   ?  ...  No_Alcohol_Served   \n",
              "1           s.l.p.           s.l.p.  mexico   ?  ...  No_Alcohol_Served   \n",
              "2  San Luis Potosi  San Luis Potosi  Mexico   ?  ...          Wine-Beer   \n",
              "3        victoria        tamaulipas       ?   ?  ...  No_Alcohol_Served   \n",
              "4         victoria       Tamaulipas  Mexico   ?  ...  No_Alcohol_Served   \n",
              "\n",
              "  smoking_area dress_code     accessibility   price                    url  \\\n",
              "0         none   informal  no_accessibility  medium  kikucuernavaca.com.mx   \n",
              "1         none   informal        completely     low                      ?   \n",
              "2  only at bar   informal         partially  medium                      ?   \n",
              "3         none   informal        completely     low                      ?   \n",
              "4    permitted   informal        completely  medium                      ?   \n",
              "\n",
              "  Rambience franchise    area other_services  \n",
              "0  familiar         f  closed           none  \n",
              "1  familiar         f    open           none  \n",
              "2  familiar         f    open           none  \n",
              "3  familiar         t  closed           none  \n",
              "4  familiar         t  closed           none  \n",
              "\n",
              "[5 rows x 21 columns]"
            ],
            "text/html": [
              "<div>\n",
              "<style scoped>\n",
              "    .dataframe tbody tr th:only-of-type {\n",
              "        vertical-align: middle;\n",
              "    }\n",
              "\n",
              "    .dataframe tbody tr th {\n",
              "        vertical-align: top;\n",
              "    }\n",
              "\n",
              "    .dataframe thead th {\n",
              "        text-align: right;\n",
              "    }\n",
              "</style>\n",
              "<table border=\"1\" class=\"dataframe\">\n",
              "  <thead>\n",
              "    <tr style=\"text-align: right;\">\n",
              "      <th></th>\n",
              "      <th>placeID</th>\n",
              "      <th>latitude</th>\n",
              "      <th>longitude</th>\n",
              "      <th>the_geom_meter</th>\n",
              "      <th>name</th>\n",
              "      <th>address</th>\n",
              "      <th>city</th>\n",
              "      <th>state</th>\n",
              "      <th>country</th>\n",
              "      <th>fax</th>\n",
              "      <th>...</th>\n",
              "      <th>alcohol</th>\n",
              "      <th>smoking_area</th>\n",
              "      <th>dress_code</th>\n",
              "      <th>accessibility</th>\n",
              "      <th>price</th>\n",
              "      <th>url</th>\n",
              "      <th>Rambience</th>\n",
              "      <th>franchise</th>\n",
              "      <th>area</th>\n",
              "      <th>other_services</th>\n",
              "    </tr>\n",
              "  </thead>\n",
              "  <tbody>\n",
              "    <tr>\n",
              "      <th>0</th>\n",
              "      <td>134999</td>\n",
              "      <td>18.915421</td>\n",
              "      <td>-99.184871</td>\n",
              "      <td>0101000020957F000088568DE356715AC138C0A525FC46...</td>\n",
              "      <td>Kiku Cuernavaca</td>\n",
              "      <td>Revolucion</td>\n",
              "      <td>Cuernavaca</td>\n",
              "      <td>Morelos</td>\n",
              "      <td>Mexico</td>\n",
              "      <td>?</td>\n",
              "      <td>...</td>\n",
              "      <td>No_Alcohol_Served</td>\n",
              "      <td>none</td>\n",
              "      <td>informal</td>\n",
              "      <td>no_accessibility</td>\n",
              "      <td>medium</td>\n",
              "      <td>kikucuernavaca.com.mx</td>\n",
              "      <td>familiar</td>\n",
              "      <td>f</td>\n",
              "      <td>closed</td>\n",
              "      <td>none</td>\n",
              "    </tr>\n",
              "    <tr>\n",
              "      <th>1</th>\n",
              "      <td>132825</td>\n",
              "      <td>22.147392</td>\n",
              "      <td>-100.983092</td>\n",
              "      <td>0101000020957F00001AD016568C4858C1243261274BA5...</td>\n",
              "      <td>puesto de tacos</td>\n",
              "      <td>esquina santos degollado y leon guzman</td>\n",
              "      <td>s.l.p.</td>\n",
              "      <td>s.l.p.</td>\n",
              "      <td>mexico</td>\n",
              "      <td>?</td>\n",
              "      <td>...</td>\n",
              "      <td>No_Alcohol_Served</td>\n",
              "      <td>none</td>\n",
              "      <td>informal</td>\n",
              "      <td>completely</td>\n",
              "      <td>low</td>\n",
              "      <td>?</td>\n",
              "      <td>familiar</td>\n",
              "      <td>f</td>\n",
              "      <td>open</td>\n",
              "      <td>none</td>\n",
              "    </tr>\n",
              "    <tr>\n",
              "      <th>2</th>\n",
              "      <td>135106</td>\n",
              "      <td>22.149709</td>\n",
              "      <td>-100.976093</td>\n",
              "      <td>0101000020957F0000649D6F21634858C119AE9BF528A3...</td>\n",
              "      <td>El Rinc�n de San Francisco</td>\n",
              "      <td>Universidad 169</td>\n",
              "      <td>San Luis Potosi</td>\n",
              "      <td>San Luis Potosi</td>\n",
              "      <td>Mexico</td>\n",
              "      <td>?</td>\n",
              "      <td>...</td>\n",
              "      <td>Wine-Beer</td>\n",
              "      <td>only at bar</td>\n",
              "      <td>informal</td>\n",
              "      <td>partially</td>\n",
              "      <td>medium</td>\n",
              "      <td>?</td>\n",
              "      <td>familiar</td>\n",
              "      <td>f</td>\n",
              "      <td>open</td>\n",
              "      <td>none</td>\n",
              "    </tr>\n",
              "    <tr>\n",
              "      <th>3</th>\n",
              "      <td>132667</td>\n",
              "      <td>23.752697</td>\n",
              "      <td>-99.163359</td>\n",
              "      <td>0101000020957F00005D67BCDDED8157C1222A2DC8D84D...</td>\n",
              "      <td>little pizza Emilio Portes Gil</td>\n",
              "      <td>calle emilio portes gil</td>\n",
              "      <td>victoria</td>\n",
              "      <td>tamaulipas</td>\n",
              "      <td>?</td>\n",
              "      <td>?</td>\n",
              "      <td>...</td>\n",
              "      <td>No_Alcohol_Served</td>\n",
              "      <td>none</td>\n",
              "      <td>informal</td>\n",
              "      <td>completely</td>\n",
              "      <td>low</td>\n",
              "      <td>?</td>\n",
              "      <td>familiar</td>\n",
              "      <td>t</td>\n",
              "      <td>closed</td>\n",
              "      <td>none</td>\n",
              "    </tr>\n",
              "    <tr>\n",
              "      <th>4</th>\n",
              "      <td>132613</td>\n",
              "      <td>23.752903</td>\n",
              "      <td>-99.165076</td>\n",
              "      <td>0101000020957F00008EBA2D06DC8157C194E03B7B504E...</td>\n",
              "      <td>carnitas_mata</td>\n",
              "      <td>lic. Emilio portes gil</td>\n",
              "      <td>victoria</td>\n",
              "      <td>Tamaulipas</td>\n",
              "      <td>Mexico</td>\n",
              "      <td>?</td>\n",
              "      <td>...</td>\n",
              "      <td>No_Alcohol_Served</td>\n",
              "      <td>permitted</td>\n",
              "      <td>informal</td>\n",
              "      <td>completely</td>\n",
              "      <td>medium</td>\n",
              "      <td>?</td>\n",
              "      <td>familiar</td>\n",
              "      <td>t</td>\n",
              "      <td>closed</td>\n",
              "      <td>none</td>\n",
              "    </tr>\n",
              "  </tbody>\n",
              "</table>\n",
              "<p>5 rows × 21 columns</p>\n",
              "</div>"
            ]
          },
          "metadata": {
            "tags": []
          },
          "execution_count": 5
        }
      ]
    },
    {
      "cell_type": "code",
      "metadata": {
        "colab": {
          "base_uri": "https://localhost:8080/",
          "height": 204
        },
        "id": "0AEBjGzcZC7F",
        "outputId": "a9e158af-db67-47fa-fd2b-1ec8a96e99e6"
      },
      "source": [
        "places =  geodata[['placeID', 'name']] # using relevant data for analysis\n",
        "places.head()"
      ],
      "execution_count": 6,
      "outputs": [
        {
          "output_type": "execute_result",
          "data": {
            "text/plain": [
              "   placeID                            name\n",
              "0   134999                 Kiku Cuernavaca\n",
              "1   132825                 puesto de tacos\n",
              "2   135106      El Rinc�n de San Francisco\n",
              "3   132667  little pizza Emilio Portes Gil\n",
              "4   132613                   carnitas_mata"
            ],
            "text/html": [
              "<div>\n",
              "<style scoped>\n",
              "    .dataframe tbody tr th:only-of-type {\n",
              "        vertical-align: middle;\n",
              "    }\n",
              "\n",
              "    .dataframe tbody tr th {\n",
              "        vertical-align: top;\n",
              "    }\n",
              "\n",
              "    .dataframe thead th {\n",
              "        text-align: right;\n",
              "    }\n",
              "</style>\n",
              "<table border=\"1\" class=\"dataframe\">\n",
              "  <thead>\n",
              "    <tr style=\"text-align: right;\">\n",
              "      <th></th>\n",
              "      <th>placeID</th>\n",
              "      <th>name</th>\n",
              "    </tr>\n",
              "  </thead>\n",
              "  <tbody>\n",
              "    <tr>\n",
              "      <th>0</th>\n",
              "      <td>134999</td>\n",
              "      <td>Kiku Cuernavaca</td>\n",
              "    </tr>\n",
              "    <tr>\n",
              "      <th>1</th>\n",
              "      <td>132825</td>\n",
              "      <td>puesto de tacos</td>\n",
              "    </tr>\n",
              "    <tr>\n",
              "      <th>2</th>\n",
              "      <td>135106</td>\n",
              "      <td>El Rinc�n de San Francisco</td>\n",
              "    </tr>\n",
              "    <tr>\n",
              "      <th>3</th>\n",
              "      <td>132667</td>\n",
              "      <td>little pizza Emilio Portes Gil</td>\n",
              "    </tr>\n",
              "    <tr>\n",
              "      <th>4</th>\n",
              "      <td>132613</td>\n",
              "      <td>carnitas_mata</td>\n",
              "    </tr>\n",
              "  </tbody>\n",
              "</table>\n",
              "</div>"
            ]
          },
          "metadata": {
            "tags": []
          },
          "execution_count": 6
        }
      ]
    },
    {
      "cell_type": "code",
      "metadata": {
        "colab": {
          "base_uri": "https://localhost:8080/",
          "height": 204
        },
        "id": "Wfm5tuvcZC7F",
        "outputId": "fc5c5d77-d248-4931-871e-2182fa6bc048"
      },
      "source": [
        "cuisine.head()"
      ],
      "execution_count": 7,
      "outputs": [
        {
          "output_type": "execute_result",
          "data": {
            "text/plain": [
              "   placeID        Rcuisine\n",
              "0   135110         Spanish\n",
              "1   135109         Italian\n",
              "2   135107  Latin_American\n",
              "3   135106         Mexican\n",
              "4   135105       Fast_Food"
            ],
            "text/html": [
              "<div>\n",
              "<style scoped>\n",
              "    .dataframe tbody tr th:only-of-type {\n",
              "        vertical-align: middle;\n",
              "    }\n",
              "\n",
              "    .dataframe tbody tr th {\n",
              "        vertical-align: top;\n",
              "    }\n",
              "\n",
              "    .dataframe thead th {\n",
              "        text-align: right;\n",
              "    }\n",
              "</style>\n",
              "<table border=\"1\" class=\"dataframe\">\n",
              "  <thead>\n",
              "    <tr style=\"text-align: right;\">\n",
              "      <th></th>\n",
              "      <th>placeID</th>\n",
              "      <th>Rcuisine</th>\n",
              "    </tr>\n",
              "  </thead>\n",
              "  <tbody>\n",
              "    <tr>\n",
              "      <th>0</th>\n",
              "      <td>135110</td>\n",
              "      <td>Spanish</td>\n",
              "    </tr>\n",
              "    <tr>\n",
              "      <th>1</th>\n",
              "      <td>135109</td>\n",
              "      <td>Italian</td>\n",
              "    </tr>\n",
              "    <tr>\n",
              "      <th>2</th>\n",
              "      <td>135107</td>\n",
              "      <td>Latin_American</td>\n",
              "    </tr>\n",
              "    <tr>\n",
              "      <th>3</th>\n",
              "      <td>135106</td>\n",
              "      <td>Mexican</td>\n",
              "    </tr>\n",
              "    <tr>\n",
              "      <th>4</th>\n",
              "      <td>135105</td>\n",
              "      <td>Fast_Food</td>\n",
              "    </tr>\n",
              "  </tbody>\n",
              "</table>\n",
              "</div>"
            ]
          },
          "metadata": {
            "tags": []
          },
          "execution_count": 7
        }
      ]
    },
    {
      "cell_type": "markdown",
      "metadata": {
        "id": "KiaTYGlpZC7F"
      },
      "source": [
        "## Grouping and Ranking Data"
      ]
    },
    {
      "cell_type": "code",
      "metadata": {
        "colab": {
          "base_uri": "https://localhost:8080/",
          "height": 235
        },
        "id": "WfB7VmfQZC7F",
        "outputId": "a12a67c5-ae2c-42b0-898f-7ab1f5a89d99"
      },
      "source": [
        "# finding average ratings given to each place\n",
        "\n",
        "rating = pd.DataFrame(frame.groupby('placeID')['rating'].mean())\n",
        "rating.head()"
      ],
      "execution_count": 8,
      "outputs": [
        {
          "output_type": "execute_result",
          "data": {
            "text/plain": [
              "         rating\n",
              "placeID        \n",
              "132560     0.50\n",
              "132561     0.75\n",
              "132564     1.25\n",
              "132572     1.00\n",
              "132583     1.00"
            ],
            "text/html": [
              "<div>\n",
              "<style scoped>\n",
              "    .dataframe tbody tr th:only-of-type {\n",
              "        vertical-align: middle;\n",
              "    }\n",
              "\n",
              "    .dataframe tbody tr th {\n",
              "        vertical-align: top;\n",
              "    }\n",
              "\n",
              "    .dataframe thead th {\n",
              "        text-align: right;\n",
              "    }\n",
              "</style>\n",
              "<table border=\"1\" class=\"dataframe\">\n",
              "  <thead>\n",
              "    <tr style=\"text-align: right;\">\n",
              "      <th></th>\n",
              "      <th>rating</th>\n",
              "    </tr>\n",
              "    <tr>\n",
              "      <th>placeID</th>\n",
              "      <th></th>\n",
              "    </tr>\n",
              "  </thead>\n",
              "  <tbody>\n",
              "    <tr>\n",
              "      <th>132560</th>\n",
              "      <td>0.50</td>\n",
              "    </tr>\n",
              "    <tr>\n",
              "      <th>132561</th>\n",
              "      <td>0.75</td>\n",
              "    </tr>\n",
              "    <tr>\n",
              "      <th>132564</th>\n",
              "      <td>1.25</td>\n",
              "    </tr>\n",
              "    <tr>\n",
              "      <th>132572</th>\n",
              "      <td>1.00</td>\n",
              "    </tr>\n",
              "    <tr>\n",
              "      <th>132583</th>\n",
              "      <td>1.00</td>\n",
              "    </tr>\n",
              "  </tbody>\n",
              "</table>\n",
              "</div>"
            ]
          },
          "metadata": {
            "tags": []
          },
          "execution_count": 8
        }
      ]
    },
    {
      "cell_type": "code",
      "metadata": {
        "colab": {
          "base_uri": "https://localhost:8080/",
          "height": 235
        },
        "id": "RVDlNrEjZC7G",
        "outputId": "6fc7e345-3ac0-4fa7-c7d6-67e46a8e5585"
      },
      "source": [
        "# Adding column 'rating_count' to count ratings/reviews received by each place\n",
        "rating['rating_count'] = pd.DataFrame(frame.groupby('placeID')['rating'].count())\n",
        "rating.head()"
      ],
      "execution_count": 9,
      "outputs": [
        {
          "output_type": "execute_result",
          "data": {
            "text/plain": [
              "         rating  rating_count\n",
              "placeID                      \n",
              "132560     0.50             4\n",
              "132561     0.75             4\n",
              "132564     1.25             4\n",
              "132572     1.00            15\n",
              "132583     1.00             4"
            ],
            "text/html": [
              "<div>\n",
              "<style scoped>\n",
              "    .dataframe tbody tr th:only-of-type {\n",
              "        vertical-align: middle;\n",
              "    }\n",
              "\n",
              "    .dataframe tbody tr th {\n",
              "        vertical-align: top;\n",
              "    }\n",
              "\n",
              "    .dataframe thead th {\n",
              "        text-align: right;\n",
              "    }\n",
              "</style>\n",
              "<table border=\"1\" class=\"dataframe\">\n",
              "  <thead>\n",
              "    <tr style=\"text-align: right;\">\n",
              "      <th></th>\n",
              "      <th>rating</th>\n",
              "      <th>rating_count</th>\n",
              "    </tr>\n",
              "    <tr>\n",
              "      <th>placeID</th>\n",
              "      <th></th>\n",
              "      <th></th>\n",
              "    </tr>\n",
              "  </thead>\n",
              "  <tbody>\n",
              "    <tr>\n",
              "      <th>132560</th>\n",
              "      <td>0.50</td>\n",
              "      <td>4</td>\n",
              "    </tr>\n",
              "    <tr>\n",
              "      <th>132561</th>\n",
              "      <td>0.75</td>\n",
              "      <td>4</td>\n",
              "    </tr>\n",
              "    <tr>\n",
              "      <th>132564</th>\n",
              "      <td>1.25</td>\n",
              "      <td>4</td>\n",
              "    </tr>\n",
              "    <tr>\n",
              "      <th>132572</th>\n",
              "      <td>1.00</td>\n",
              "      <td>15</td>\n",
              "    </tr>\n",
              "    <tr>\n",
              "      <th>132583</th>\n",
              "      <td>1.00</td>\n",
              "      <td>4</td>\n",
              "    </tr>\n",
              "  </tbody>\n",
              "</table>\n",
              "</div>"
            ]
          },
          "metadata": {
            "tags": []
          },
          "execution_count": 9
        }
      ]
    },
    {
      "cell_type": "code",
      "metadata": {
        "colab": {
          "base_uri": "https://localhost:8080/",
          "height": 297
        },
        "id": "hwPfrGE3ZC7G",
        "outputId": "ba2eb1e3-6f29-4d82-8c2a-29d384bd3bc6"
      },
      "source": [
        "rating.describe()"
      ],
      "execution_count": 10,
      "outputs": [
        {
          "output_type": "execute_result",
          "data": {
            "text/plain": [
              "           rating  rating_count\n",
              "count  130.000000    130.000000\n",
              "mean     1.179622      8.930769\n",
              "std      0.349354      6.124279\n",
              "min      0.250000      3.000000\n",
              "25%      1.000000      5.000000\n",
              "50%      1.181818      7.000000\n",
              "75%      1.400000     11.000000\n",
              "max      2.000000     36.000000"
            ],
            "text/html": [
              "<div>\n",
              "<style scoped>\n",
              "    .dataframe tbody tr th:only-of-type {\n",
              "        vertical-align: middle;\n",
              "    }\n",
              "\n",
              "    .dataframe tbody tr th {\n",
              "        vertical-align: top;\n",
              "    }\n",
              "\n",
              "    .dataframe thead th {\n",
              "        text-align: right;\n",
              "    }\n",
              "</style>\n",
              "<table border=\"1\" class=\"dataframe\">\n",
              "  <thead>\n",
              "    <tr style=\"text-align: right;\">\n",
              "      <th></th>\n",
              "      <th>rating</th>\n",
              "      <th>rating_count</th>\n",
              "    </tr>\n",
              "  </thead>\n",
              "  <tbody>\n",
              "    <tr>\n",
              "      <th>count</th>\n",
              "      <td>130.000000</td>\n",
              "      <td>130.000000</td>\n",
              "    </tr>\n",
              "    <tr>\n",
              "      <th>mean</th>\n",
              "      <td>1.179622</td>\n",
              "      <td>8.930769</td>\n",
              "    </tr>\n",
              "    <tr>\n",
              "      <th>std</th>\n",
              "      <td>0.349354</td>\n",
              "      <td>6.124279</td>\n",
              "    </tr>\n",
              "    <tr>\n",
              "      <th>min</th>\n",
              "      <td>0.250000</td>\n",
              "      <td>3.000000</td>\n",
              "    </tr>\n",
              "    <tr>\n",
              "      <th>25%</th>\n",
              "      <td>1.000000</td>\n",
              "      <td>5.000000</td>\n",
              "    </tr>\n",
              "    <tr>\n",
              "      <th>50%</th>\n",
              "      <td>1.181818</td>\n",
              "      <td>7.000000</td>\n",
              "    </tr>\n",
              "    <tr>\n",
              "      <th>75%</th>\n",
              "      <td>1.400000</td>\n",
              "      <td>11.000000</td>\n",
              "    </tr>\n",
              "    <tr>\n",
              "      <th>max</th>\n",
              "      <td>2.000000</td>\n",
              "      <td>36.000000</td>\n",
              "    </tr>\n",
              "  </tbody>\n",
              "</table>\n",
              "</div>"
            ]
          },
          "metadata": {
            "tags": []
          },
          "execution_count": 10
        }
      ]
    },
    {
      "cell_type": "code",
      "metadata": {
        "colab": {
          "base_uri": "https://localhost:8080/",
          "height": 235
        },
        "id": "4_FrFmylZC7G",
        "outputId": "3ce45415-e6f8-4110-98ea-cc6dfbc75c4c"
      },
      "source": [
        "# Finding most popular places based on reviews\n",
        "rating.sort_values('rating_count', ascending=False).head()"
      ],
      "execution_count": 11,
      "outputs": [
        {
          "output_type": "execute_result",
          "data": {
            "text/plain": [
              "           rating  rating_count\n",
              "placeID                        \n",
              "135085   1.333333            36\n",
              "132825   1.281250            32\n",
              "135032   1.178571            28\n",
              "135052   1.280000            25\n",
              "132834   1.000000            25"
            ],
            "text/html": [
              "<div>\n",
              "<style scoped>\n",
              "    .dataframe tbody tr th:only-of-type {\n",
              "        vertical-align: middle;\n",
              "    }\n",
              "\n",
              "    .dataframe tbody tr th {\n",
              "        vertical-align: top;\n",
              "    }\n",
              "\n",
              "    .dataframe thead th {\n",
              "        text-align: right;\n",
              "    }\n",
              "</style>\n",
              "<table border=\"1\" class=\"dataframe\">\n",
              "  <thead>\n",
              "    <tr style=\"text-align: right;\">\n",
              "      <th></th>\n",
              "      <th>rating</th>\n",
              "      <th>rating_count</th>\n",
              "    </tr>\n",
              "    <tr>\n",
              "      <th>placeID</th>\n",
              "      <th></th>\n",
              "      <th></th>\n",
              "    </tr>\n",
              "  </thead>\n",
              "  <tbody>\n",
              "    <tr>\n",
              "      <th>135085</th>\n",
              "      <td>1.333333</td>\n",
              "      <td>36</td>\n",
              "    </tr>\n",
              "    <tr>\n",
              "      <th>132825</th>\n",
              "      <td>1.281250</td>\n",
              "      <td>32</td>\n",
              "    </tr>\n",
              "    <tr>\n",
              "      <th>135032</th>\n",
              "      <td>1.178571</td>\n",
              "      <td>28</td>\n",
              "    </tr>\n",
              "    <tr>\n",
              "      <th>135052</th>\n",
              "      <td>1.280000</td>\n",
              "      <td>25</td>\n",
              "    </tr>\n",
              "    <tr>\n",
              "      <th>132834</th>\n",
              "      <td>1.000000</td>\n",
              "      <td>25</td>\n",
              "    </tr>\n",
              "  </tbody>\n",
              "</table>\n",
              "</div>"
            ]
          },
          "metadata": {
            "tags": []
          },
          "execution_count": 11
        }
      ]
    },
    {
      "cell_type": "code",
      "metadata": {
        "colab": {
          "base_uri": "https://localhost:8080/",
          "height": 80
        },
        "id": "P2m52ScMZC7G",
        "outputId": "e1890c91-6881-426a-d83b-562c696d0e1b"
      },
      "source": [
        "# Name of the most popular place\n",
        "places[places['placeID'] == 135085]"
      ],
      "execution_count": 12,
      "outputs": [
        {
          "output_type": "execute_result",
          "data": {
            "text/plain": [
              "     placeID                    name\n",
              "121   135085  Tortas Locas Hipocampo"
            ],
            "text/html": [
              "<div>\n",
              "<style scoped>\n",
              "    .dataframe tbody tr th:only-of-type {\n",
              "        vertical-align: middle;\n",
              "    }\n",
              "\n",
              "    .dataframe tbody tr th {\n",
              "        vertical-align: top;\n",
              "    }\n",
              "\n",
              "    .dataframe thead th {\n",
              "        text-align: right;\n",
              "    }\n",
              "</style>\n",
              "<table border=\"1\" class=\"dataframe\">\n",
              "  <thead>\n",
              "    <tr style=\"text-align: right;\">\n",
              "      <th></th>\n",
              "      <th>placeID</th>\n",
              "      <th>name</th>\n",
              "    </tr>\n",
              "  </thead>\n",
              "  <tbody>\n",
              "    <tr>\n",
              "      <th>121</th>\n",
              "      <td>135085</td>\n",
              "      <td>Tortas Locas Hipocampo</td>\n",
              "    </tr>\n",
              "  </tbody>\n",
              "</table>\n",
              "</div>"
            ]
          },
          "metadata": {
            "tags": []
          },
          "execution_count": 12
        }
      ]
    },
    {
      "cell_type": "code",
      "metadata": {
        "colab": {
          "base_uri": "https://localhost:8080/",
          "height": 80
        },
        "id": "eLJlov9_ZC7G",
        "outputId": "e7076944-df5b-44e6-b33f-ae7daa563ab8"
      },
      "source": [
        "# Cuising served by most popular place\n",
        "cuisine[cuisine['placeID'] == 135085]"
      ],
      "execution_count": 13,
      "outputs": [
        {
          "output_type": "execute_result",
          "data": {
            "text/plain": [
              "    placeID   Rcuisine\n",
              "44   135085  Fast_Food"
            ],
            "text/html": [
              "<div>\n",
              "<style scoped>\n",
              "    .dataframe tbody tr th:only-of-type {\n",
              "        vertical-align: middle;\n",
              "    }\n",
              "\n",
              "    .dataframe tbody tr th {\n",
              "        vertical-align: top;\n",
              "    }\n",
              "\n",
              "    .dataframe thead th {\n",
              "        text-align: right;\n",
              "    }\n",
              "</style>\n",
              "<table border=\"1\" class=\"dataframe\">\n",
              "  <thead>\n",
              "    <tr style=\"text-align: right;\">\n",
              "      <th></th>\n",
              "      <th>placeID</th>\n",
              "      <th>Rcuisine</th>\n",
              "    </tr>\n",
              "  </thead>\n",
              "  <tbody>\n",
              "    <tr>\n",
              "      <th>44</th>\n",
              "      <td>135085</td>\n",
              "      <td>Fast_Food</td>\n",
              "    </tr>\n",
              "  </tbody>\n",
              "</table>\n",
              "</div>"
            ]
          },
          "metadata": {
            "tags": []
          },
          "execution_count": 13
        }
      ]
    },
    {
      "cell_type": "markdown",
      "metadata": {
        "id": "TifWBYGUZC7G"
      },
      "source": [
        "## Preparing Data For Analysis"
      ]
    },
    {
      "cell_type": "code",
      "metadata": {
        "colab": {
          "base_uri": "https://localhost:8080/",
          "height": 284
        },
        "id": "pZBag8c3ZC7G",
        "outputId": "f0f4f0a0-b273-43e9-ff19-9d1cb1bdb87e"
      },
      "source": [
        "# User rating for each place in the dataset\n",
        "\n",
        "places_crosstab = pd.pivot_table(data=frame, values='rating', index='userID', columns='placeID')\n",
        "places_crosstab.head()\n",
        "\n",
        "# NaN refers to no review"
      ],
      "execution_count": 14,
      "outputs": [
        {
          "output_type": "execute_result",
          "data": {
            "text/plain": [
              "placeID  132560  132561  132564  132572  132583  132584  132594  132608  \\\n",
              "userID                                                                    \n",
              "U1001       NaN     NaN     NaN     NaN     NaN     NaN     NaN     NaN   \n",
              "U1002       NaN     NaN     NaN     NaN     NaN     NaN     NaN     NaN   \n",
              "U1003       NaN     NaN     NaN     NaN     NaN     NaN     NaN     NaN   \n",
              "U1004       NaN     NaN     NaN     NaN     NaN     NaN     NaN     NaN   \n",
              "U1005       NaN     NaN     NaN     NaN     NaN     NaN     NaN     NaN   \n",
              "\n",
              "placeID  132609  132613  ...  135080  135081  135082  135085  135086  135088  \\\n",
              "userID                   ...                                                   \n",
              "U1001       NaN     NaN  ...     NaN     NaN     NaN     0.0     NaN     NaN   \n",
              "U1002       NaN     NaN  ...     NaN     NaN     NaN     1.0     NaN     NaN   \n",
              "U1003       NaN     NaN  ...     2.0     NaN     NaN     NaN     NaN     NaN   \n",
              "U1004       NaN     NaN  ...     NaN     NaN     NaN     NaN     NaN     NaN   \n",
              "U1005       NaN     NaN  ...     NaN     NaN     NaN     NaN     NaN     NaN   \n",
              "\n",
              "placeID  135104  135106  135108  135109  \n",
              "userID                                   \n",
              "U1001       NaN     NaN     NaN     NaN  \n",
              "U1002       NaN     1.0     NaN     NaN  \n",
              "U1003       NaN     NaN     NaN     NaN  \n",
              "U1004       NaN     2.0     NaN     NaN  \n",
              "U1005       NaN     NaN     NaN     NaN  \n",
              "\n",
              "[5 rows x 130 columns]"
            ],
            "text/html": [
              "<div>\n",
              "<style scoped>\n",
              "    .dataframe tbody tr th:only-of-type {\n",
              "        vertical-align: middle;\n",
              "    }\n",
              "\n",
              "    .dataframe tbody tr th {\n",
              "        vertical-align: top;\n",
              "    }\n",
              "\n",
              "    .dataframe thead th {\n",
              "        text-align: right;\n",
              "    }\n",
              "</style>\n",
              "<table border=\"1\" class=\"dataframe\">\n",
              "  <thead>\n",
              "    <tr style=\"text-align: right;\">\n",
              "      <th>placeID</th>\n",
              "      <th>132560</th>\n",
              "      <th>132561</th>\n",
              "      <th>132564</th>\n",
              "      <th>132572</th>\n",
              "      <th>132583</th>\n",
              "      <th>132584</th>\n",
              "      <th>132594</th>\n",
              "      <th>132608</th>\n",
              "      <th>132609</th>\n",
              "      <th>132613</th>\n",
              "      <th>...</th>\n",
              "      <th>135080</th>\n",
              "      <th>135081</th>\n",
              "      <th>135082</th>\n",
              "      <th>135085</th>\n",
              "      <th>135086</th>\n",
              "      <th>135088</th>\n",
              "      <th>135104</th>\n",
              "      <th>135106</th>\n",
              "      <th>135108</th>\n",
              "      <th>135109</th>\n",
              "    </tr>\n",
              "    <tr>\n",
              "      <th>userID</th>\n",
              "      <th></th>\n",
              "      <th></th>\n",
              "      <th></th>\n",
              "      <th></th>\n",
              "      <th></th>\n",
              "      <th></th>\n",
              "      <th></th>\n",
              "      <th></th>\n",
              "      <th></th>\n",
              "      <th></th>\n",
              "      <th></th>\n",
              "      <th></th>\n",
              "      <th></th>\n",
              "      <th></th>\n",
              "      <th></th>\n",
              "      <th></th>\n",
              "      <th></th>\n",
              "      <th></th>\n",
              "      <th></th>\n",
              "      <th></th>\n",
              "      <th></th>\n",
              "    </tr>\n",
              "  </thead>\n",
              "  <tbody>\n",
              "    <tr>\n",
              "      <th>U1001</th>\n",
              "      <td>NaN</td>\n",
              "      <td>NaN</td>\n",
              "      <td>NaN</td>\n",
              "      <td>NaN</td>\n",
              "      <td>NaN</td>\n",
              "      <td>NaN</td>\n",
              "      <td>NaN</td>\n",
              "      <td>NaN</td>\n",
              "      <td>NaN</td>\n",
              "      <td>NaN</td>\n",
              "      <td>...</td>\n",
              "      <td>NaN</td>\n",
              "      <td>NaN</td>\n",
              "      <td>NaN</td>\n",
              "      <td>0.0</td>\n",
              "      <td>NaN</td>\n",
              "      <td>NaN</td>\n",
              "      <td>NaN</td>\n",
              "      <td>NaN</td>\n",
              "      <td>NaN</td>\n",
              "      <td>NaN</td>\n",
              "    </tr>\n",
              "    <tr>\n",
              "      <th>U1002</th>\n",
              "      <td>NaN</td>\n",
              "      <td>NaN</td>\n",
              "      <td>NaN</td>\n",
              "      <td>NaN</td>\n",
              "      <td>NaN</td>\n",
              "      <td>NaN</td>\n",
              "      <td>NaN</td>\n",
              "      <td>NaN</td>\n",
              "      <td>NaN</td>\n",
              "      <td>NaN</td>\n",
              "      <td>...</td>\n",
              "      <td>NaN</td>\n",
              "      <td>NaN</td>\n",
              "      <td>NaN</td>\n",
              "      <td>1.0</td>\n",
              "      <td>NaN</td>\n",
              "      <td>NaN</td>\n",
              "      <td>NaN</td>\n",
              "      <td>1.0</td>\n",
              "      <td>NaN</td>\n",
              "      <td>NaN</td>\n",
              "    </tr>\n",
              "    <tr>\n",
              "      <th>U1003</th>\n",
              "      <td>NaN</td>\n",
              "      <td>NaN</td>\n",
              "      <td>NaN</td>\n",
              "      <td>NaN</td>\n",
              "      <td>NaN</td>\n",
              "      <td>NaN</td>\n",
              "      <td>NaN</td>\n",
              "      <td>NaN</td>\n",
              "      <td>NaN</td>\n",
              "      <td>NaN</td>\n",
              "      <td>...</td>\n",
              "      <td>2.0</td>\n",
              "      <td>NaN</td>\n",
              "      <td>NaN</td>\n",
              "      <td>NaN</td>\n",
              "      <td>NaN</td>\n",
              "      <td>NaN</td>\n",
              "      <td>NaN</td>\n",
              "      <td>NaN</td>\n",
              "      <td>NaN</td>\n",
              "      <td>NaN</td>\n",
              "    </tr>\n",
              "    <tr>\n",
              "      <th>U1004</th>\n",
              "      <td>NaN</td>\n",
              "      <td>NaN</td>\n",
              "      <td>NaN</td>\n",
              "      <td>NaN</td>\n",
              "      <td>NaN</td>\n",
              "      <td>NaN</td>\n",
              "      <td>NaN</td>\n",
              "      <td>NaN</td>\n",
              "      <td>NaN</td>\n",
              "      <td>NaN</td>\n",
              "      <td>...</td>\n",
              "      <td>NaN</td>\n",
              "      <td>NaN</td>\n",
              "      <td>NaN</td>\n",
              "      <td>NaN</td>\n",
              "      <td>NaN</td>\n",
              "      <td>NaN</td>\n",
              "      <td>NaN</td>\n",
              "      <td>2.0</td>\n",
              "      <td>NaN</td>\n",
              "      <td>NaN</td>\n",
              "    </tr>\n",
              "    <tr>\n",
              "      <th>U1005</th>\n",
              "      <td>NaN</td>\n",
              "      <td>NaN</td>\n",
              "      <td>NaN</td>\n",
              "      <td>NaN</td>\n",
              "      <td>NaN</td>\n",
              "      <td>NaN</td>\n",
              "      <td>NaN</td>\n",
              "      <td>NaN</td>\n",
              "      <td>NaN</td>\n",
              "      <td>NaN</td>\n",
              "      <td>...</td>\n",
              "      <td>NaN</td>\n",
              "      <td>NaN</td>\n",
              "      <td>NaN</td>\n",
              "      <td>NaN</td>\n",
              "      <td>NaN</td>\n",
              "      <td>NaN</td>\n",
              "      <td>NaN</td>\n",
              "      <td>NaN</td>\n",
              "      <td>NaN</td>\n",
              "      <td>NaN</td>\n",
              "    </tr>\n",
              "  </tbody>\n",
              "</table>\n",
              "<p>5 rows × 130 columns</p>\n",
              "</div>"
            ]
          },
          "metadata": {
            "tags": []
          },
          "execution_count": 14
        }
      ]
    },
    {
      "cell_type": "code",
      "metadata": {
        "colab": {
          "base_uri": "https://localhost:8080/"
        },
        "id": "SaAAFV_oZC7G",
        "outputId": "4d219c30-68a5-4b96-8fd9-a5c7474445e1"
      },
      "source": [
        "# Analyzing user rating for most popular place\n",
        "\n",
        "Tortas_ratings = places_crosstab[135085]\n",
        "Tortas_ratings[Tortas_ratings >= 0]"
      ],
      "execution_count": 15,
      "outputs": [
        {
          "output_type": "execute_result",
          "data": {
            "text/plain": [
              "userID\n",
              "U1001    0.0\n",
              "U1002    1.0\n",
              "U1007    1.0\n",
              "U1013    1.0\n",
              "U1016    2.0\n",
              "U1027    1.0\n",
              "U1029    1.0\n",
              "U1032    1.0\n",
              "U1033    2.0\n",
              "U1036    2.0\n",
              "U1045    2.0\n",
              "U1046    1.0\n",
              "U1049    0.0\n",
              "U1056    2.0\n",
              "U1059    2.0\n",
              "U1062    0.0\n",
              "U1077    2.0\n",
              "U1081    1.0\n",
              "U1084    2.0\n",
              "U1086    2.0\n",
              "U1089    1.0\n",
              "U1090    2.0\n",
              "U1092    0.0\n",
              "U1098    1.0\n",
              "U1104    2.0\n",
              "U1106    2.0\n",
              "U1108    1.0\n",
              "U1109    2.0\n",
              "U1113    1.0\n",
              "U1116    2.0\n",
              "U1120    0.0\n",
              "U1122    2.0\n",
              "U1132    2.0\n",
              "U1134    2.0\n",
              "U1135    0.0\n",
              "U1137    2.0\n",
              "Name: 135085, dtype: float64"
            ]
          },
          "metadata": {
            "tags": []
          },
          "execution_count": 15
        }
      ]
    },
    {
      "cell_type": "markdown",
      "metadata": {
        "id": "-NN1K9RlZC7G"
      },
      "source": [
        "## Evaluating Similarity Based on Correlation"
      ]
    },
    {
      "cell_type": "code",
      "metadata": {
        "colab": {
          "base_uri": "https://localhost:8080/",
          "height": 235
        },
        "id": "6mquuL_lZC7G",
        "outputId": "8402bd82-ee82-448b-fac5-38da5f579c0f"
      },
      "source": [
        "# Finding similarity of user ratings for other places in relation to most popular place using \n",
        "# Pearson Correlation\n",
        "\n",
        "similar_to_Tortas = places_crosstab.corrwith(Tortas_ratings)\n",
        "\n",
        "corr_Tortas = pd.DataFrame(similar_to_Tortas, columns=['PearsonR'])\n",
        "corr_Tortas.dropna(inplace=True)\n",
        "corr_Tortas.head()"
      ],
      "execution_count": 24,
      "outputs": [
        {
          "output_type": "execute_result",
          "data": {
            "text/plain": [
              "         PearsonR\n",
              "placeID          \n",
              "132572  -0.428571\n",
              "132723   0.301511\n",
              "132754   0.930261\n",
              "132825   0.700745\n",
              "132834   0.814823"
            ],
            "text/html": [
              "<div>\n",
              "<style scoped>\n",
              "    .dataframe tbody tr th:only-of-type {\n",
              "        vertical-align: middle;\n",
              "    }\n",
              "\n",
              "    .dataframe tbody tr th {\n",
              "        vertical-align: top;\n",
              "    }\n",
              "\n",
              "    .dataframe thead th {\n",
              "        text-align: right;\n",
              "    }\n",
              "</style>\n",
              "<table border=\"1\" class=\"dataframe\">\n",
              "  <thead>\n",
              "    <tr style=\"text-align: right;\">\n",
              "      <th></th>\n",
              "      <th>PearsonR</th>\n",
              "    </tr>\n",
              "    <tr>\n",
              "      <th>placeID</th>\n",
              "      <th></th>\n",
              "    </tr>\n",
              "  </thead>\n",
              "  <tbody>\n",
              "    <tr>\n",
              "      <th>132572</th>\n",
              "      <td>-0.428571</td>\n",
              "    </tr>\n",
              "    <tr>\n",
              "      <th>132723</th>\n",
              "      <td>0.301511</td>\n",
              "    </tr>\n",
              "    <tr>\n",
              "      <th>132754</th>\n",
              "      <td>0.930261</td>\n",
              "    </tr>\n",
              "    <tr>\n",
              "      <th>132825</th>\n",
              "      <td>0.700745</td>\n",
              "    </tr>\n",
              "    <tr>\n",
              "      <th>132834</th>\n",
              "      <td>0.814823</td>\n",
              "    </tr>\n",
              "  </tbody>\n",
              "</table>\n",
              "</div>"
            ]
          },
          "metadata": {
            "tags": []
          },
          "execution_count": 24
        }
      ]
    },
    {
      "cell_type": "code",
      "metadata": {
        "id": "Ap3mXtUHZC7H"
      },
      "source": [
        "# Joining correlation matrix with rating count\n",
        "\n",
        "Tortas_corr_summary = corr_Tortas.join(rating['rating_count'])"
      ],
      "execution_count": 17,
      "outputs": []
    },
    {
      "cell_type": "code",
      "metadata": {
        "colab": {
          "base_uri": "https://localhost:8080/",
          "height": 390
        },
        "id": "hodBcZt0ZC7H",
        "outputId": "539b9513-b3d5-4d71-bdb3-c142c4d0d146"
      },
      "source": [
        "# Finding Top 10 popular and highly rated places similar to most popular place (135085)\n",
        "\n",
        "Tortas_corr_summary[Tortas_corr_summary['rating_count']>=10].sort_values('PearsonR', ascending=False).head(10)"
      ],
      "execution_count": 18,
      "outputs": [
        {
          "output_type": "execute_result",
          "data": {
            "text/plain": [
              "         PearsonR  rating_count\n",
              "placeID                        \n",
              "135076   1.000000            13\n",
              "135085   1.000000            36\n",
              "135066   1.000000            12\n",
              "132754   0.930261            13\n",
              "135045   0.912871            13\n",
              "135062   0.898933            21\n",
              "135028   0.892218            15\n",
              "135042   0.881409            20\n",
              "135046   0.867722            11\n",
              "132872   0.840168            12"
            ],
            "text/html": [
              "<div>\n",
              "<style scoped>\n",
              "    .dataframe tbody tr th:only-of-type {\n",
              "        vertical-align: middle;\n",
              "    }\n",
              "\n",
              "    .dataframe tbody tr th {\n",
              "        vertical-align: top;\n",
              "    }\n",
              "\n",
              "    .dataframe thead th {\n",
              "        text-align: right;\n",
              "    }\n",
              "</style>\n",
              "<table border=\"1\" class=\"dataframe\">\n",
              "  <thead>\n",
              "    <tr style=\"text-align: right;\">\n",
              "      <th></th>\n",
              "      <th>PearsonR</th>\n",
              "      <th>rating_count</th>\n",
              "    </tr>\n",
              "    <tr>\n",
              "      <th>placeID</th>\n",
              "      <th></th>\n",
              "      <th></th>\n",
              "    </tr>\n",
              "  </thead>\n",
              "  <tbody>\n",
              "    <tr>\n",
              "      <th>135076</th>\n",
              "      <td>1.000000</td>\n",
              "      <td>13</td>\n",
              "    </tr>\n",
              "    <tr>\n",
              "      <th>135085</th>\n",
              "      <td>1.000000</td>\n",
              "      <td>36</td>\n",
              "    </tr>\n",
              "    <tr>\n",
              "      <th>135066</th>\n",
              "      <td>1.000000</td>\n",
              "      <td>12</td>\n",
              "    </tr>\n",
              "    <tr>\n",
              "      <th>132754</th>\n",
              "      <td>0.930261</td>\n",
              "      <td>13</td>\n",
              "    </tr>\n",
              "    <tr>\n",
              "      <th>135045</th>\n",
              "      <td>0.912871</td>\n",
              "      <td>13</td>\n",
              "    </tr>\n",
              "    <tr>\n",
              "      <th>135062</th>\n",
              "      <td>0.898933</td>\n",
              "      <td>21</td>\n",
              "    </tr>\n",
              "    <tr>\n",
              "      <th>135028</th>\n",
              "      <td>0.892218</td>\n",
              "      <td>15</td>\n",
              "    </tr>\n",
              "    <tr>\n",
              "      <th>135042</th>\n",
              "      <td>0.881409</td>\n",
              "      <td>20</td>\n",
              "    </tr>\n",
              "    <tr>\n",
              "      <th>135046</th>\n",
              "      <td>0.867722</td>\n",
              "      <td>11</td>\n",
              "    </tr>\n",
              "    <tr>\n",
              "      <th>132872</th>\n",
              "      <td>0.840168</td>\n",
              "      <td>12</td>\n",
              "    </tr>\n",
              "  </tbody>\n",
              "</table>\n",
              "</div>"
            ]
          },
          "metadata": {
            "tags": []
          },
          "execution_count": 18
        }
      ]
    },
    {
      "cell_type": "code",
      "metadata": {
        "colab": {
          "base_uri": "https://localhost:8080/",
          "height": 204
        },
        "id": "Iv6C5P6YZC7H",
        "outputId": "d344b772-be46-45dc-b73a-796292bc80e2"
      },
      "source": [
        "# Finding cuising served in popular places in relation to most popular place\n",
        "\n",
        "places_corr_Tortas = pd.DataFrame([135085, 132754, 135045, 135062, 135028, 135042, 135046], index = np.arange(7), columns=['placeID'])\n",
        "summary = pd.merge(places_corr_Tortas, cuisine,on='placeID')\n",
        "summary"
      ],
      "execution_count": 19,
      "outputs": [
        {
          "output_type": "execute_result",
          "data": {
            "text/plain": [
              "   placeID   Rcuisine\n",
              "0   135085  Fast_Food\n",
              "1   132754    Mexican\n",
              "2   135028    Mexican\n",
              "3   135042    Chinese\n",
              "4   135046  Fast_Food"
            ],
            "text/html": [
              "<div>\n",
              "<style scoped>\n",
              "    .dataframe tbody tr th:only-of-type {\n",
              "        vertical-align: middle;\n",
              "    }\n",
              "\n",
              "    .dataframe tbody tr th {\n",
              "        vertical-align: top;\n",
              "    }\n",
              "\n",
              "    .dataframe thead th {\n",
              "        text-align: right;\n",
              "    }\n",
              "</style>\n",
              "<table border=\"1\" class=\"dataframe\">\n",
              "  <thead>\n",
              "    <tr style=\"text-align: right;\">\n",
              "      <th></th>\n",
              "      <th>placeID</th>\n",
              "      <th>Rcuisine</th>\n",
              "    </tr>\n",
              "  </thead>\n",
              "  <tbody>\n",
              "    <tr>\n",
              "      <th>0</th>\n",
              "      <td>135085</td>\n",
              "      <td>Fast_Food</td>\n",
              "    </tr>\n",
              "    <tr>\n",
              "      <th>1</th>\n",
              "      <td>132754</td>\n",
              "      <td>Mexican</td>\n",
              "    </tr>\n",
              "    <tr>\n",
              "      <th>2</th>\n",
              "      <td>135028</td>\n",
              "      <td>Mexican</td>\n",
              "    </tr>\n",
              "    <tr>\n",
              "      <th>3</th>\n",
              "      <td>135042</td>\n",
              "      <td>Chinese</td>\n",
              "    </tr>\n",
              "    <tr>\n",
              "      <th>4</th>\n",
              "      <td>135046</td>\n",
              "      <td>Fast_Food</td>\n",
              "    </tr>\n",
              "  </tbody>\n",
              "</table>\n",
              "</div>"
            ]
          },
          "metadata": {
            "tags": []
          },
          "execution_count": 19
        }
      ]
    },
    {
      "cell_type": "code",
      "metadata": {
        "colab": {
          "base_uri": "https://localhost:8080/",
          "height": 80
        },
        "id": "CzUosJnUZC7H",
        "outputId": "b8d370cc-c4d8-4a3a-8aba-ad119ac926bd"
      },
      "source": [
        "# Name of place id 135046\n",
        "\n",
        "places[places['placeID']==135046]"
      ],
      "execution_count": 20,
      "outputs": [
        {
          "output_type": "execute_result",
          "data": {
            "text/plain": [
              "    placeID                     name\n",
              "42   135046  Restaurante El Reyecito"
            ],
            "text/html": [
              "<div>\n",
              "<style scoped>\n",
              "    .dataframe tbody tr th:only-of-type {\n",
              "        vertical-align: middle;\n",
              "    }\n",
              "\n",
              "    .dataframe tbody tr th {\n",
              "        vertical-align: top;\n",
              "    }\n",
              "\n",
              "    .dataframe thead th {\n",
              "        text-align: right;\n",
              "    }\n",
              "</style>\n",
              "<table border=\"1\" class=\"dataframe\">\n",
              "  <thead>\n",
              "    <tr style=\"text-align: right;\">\n",
              "      <th></th>\n",
              "      <th>placeID</th>\n",
              "      <th>name</th>\n",
              "    </tr>\n",
              "  </thead>\n",
              "  <tbody>\n",
              "    <tr>\n",
              "      <th>42</th>\n",
              "      <td>135046</td>\n",
              "      <td>Restaurante El Reyecito</td>\n",
              "    </tr>\n",
              "  </tbody>\n",
              "</table>\n",
              "</div>"
            ]
          },
          "metadata": {
            "tags": []
          },
          "execution_count": 20
        }
      ]
    },
    {
      "cell_type": "code",
      "metadata": {
        "colab": {
          "base_uri": "https://localhost:8080/"
        },
        "id": "_IEQKDvyZC7H",
        "outputId": "9ad5bb46-2a69-481b-e7d6-904bac7367ae"
      },
      "source": [
        "cuisine['Rcuisine'].describe() # Summary of cuisine dataset"
      ],
      "execution_count": 21,
      "outputs": [
        {
          "output_type": "execute_result",
          "data": {
            "text/plain": [
              "count         916\n",
              "unique         59\n",
              "top       Mexican\n",
              "freq          239\n",
              "Name: Rcuisine, dtype: object"
            ]
          },
          "metadata": {
            "tags": []
          },
          "execution_count": 21
        }
      ]
    },
    {
      "cell_type": "code",
      "metadata": {
        "id": "TqwAWRFTZC7H"
      },
      "source": [
        ""
      ],
      "execution_count": null,
      "outputs": []
    },
    {
      "cell_type": "code",
      "metadata": {
        "id": "BlX7Jgg3ZC7H"
      },
      "source": [
        ""
      ],
      "execution_count": null,
      "outputs": []
    }
  ]
}